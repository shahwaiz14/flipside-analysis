{
 "cells": [
  {
   "cell_type": "markdown",
   "metadata": {},
   "source": [
    "<h1> ShroomDK Mint </h1>"
   ]
  },
  {
   "cell_type": "markdown",
   "metadata": {},
   "source": [
    "![SHROOMDK NFT](sdk.png)"
   ]
  },
  {
   "cell_type": "code",
   "execution_count": 1,
   "metadata": {},
   "outputs": [],
   "source": [
    "import os\n",
    "\n",
    "import numpy as np\n",
    "import pandas as pd\n",
    "import seaborn as sns\n",
    "import matplotlib.pyplot as plt"
   ]
  },
  {
   "cell_type": "markdown",
   "metadata": {},
   "source": [
    "### What is ShroomDK?"
   ]
  },
  {
   "cell_type": "markdown",
   "metadata": {},
   "source": [
    "Flipside decided to release their SDK as an NFT, which gives NFT holders access to their blockchain data. Users can use Javascript/Typescript and Python to query database tables offered by Flipside. A random supply of these NFTs are dropped daily and are free to mint (users just have to pay for gas fees). Anyone who successfully mints will receive a referral code that they can share with a friend, which will allow them to mint on that day as well (even if the daily mint limit has been reached).\n",
    "\n",
    "The address of ShroomDK contract is https://etherscan.io/address/0xdfb57b6e16ddb97aeb8847386989f4dca7202146."
   ]
  },
  {
   "cell_type": "markdown",
   "metadata": {},
   "source": [
    "## Objective"
   ]
  },
  {
   "cell_type": "markdown",
   "metadata": {},
   "source": [
    "In this notebook, we are going to explore the following:\n",
    "\n",
    "1. Number of ShroomDK NFTs minted so far\n",
    "2. Number of failed transactions\n",
    "3. Number of unique addresses that hold ShroomDK NFT\n",
    "4. Average gas paid to mint\n",
    "5. How fast do the ShroomDK NFTs mint out each day?\n",
    "6. Number of transfers corresponding to ShroomDK NFT \n",
    "\n",
    "(We are going to use data from 06/29/2022 to 07/01/2022 and use ethereum tables `ez_nft_mints` and  `ez_nft_sales`)\n"
   ]
  },
  {
   "cell_type": "markdown",
   "metadata": {},
   "source": [
    "The data has been exported using queries on Flipside. The next two cells contain the queries that will be used for this analysis."
   ]
  },
  {
   "cell_type": "markdown",
   "metadata": {},
   "source": [
    "## Read Data"
   ]
  },
  {
   "cell_type": "markdown",
   "metadata": {},
   "source": [
    "**NFT Mints Data Overview**"
   ]
  },
  {
   "cell_type": "markdown",
   "metadata": {},
   "source": [
    "This data shows mint transaction details."
   ]
  },
  {
   "cell_type": "code",
   "execution_count": 118,
   "metadata": {
    "scrolled": true
   },
   "outputs": [
    {
     "data": {
      "text/html": [
       "<div>\n",
       "<style scoped>\n",
       "    .dataframe tbody tr th:only-of-type {\n",
       "        vertical-align: middle;\n",
       "    }\n",
       "\n",
       "    .dataframe tbody tr th {\n",
       "        vertical-align: top;\n",
       "    }\n",
       "\n",
       "    .dataframe thead th {\n",
       "        text-align: right;\n",
       "    }\n",
       "</style>\n",
       "<table border=\"1\" class=\"dataframe\">\n",
       "  <thead>\n",
       "    <tr style=\"text-align: right;\">\n",
       "      <th></th>\n",
       "      <th>BLOCK_TIMESTAMP</th>\n",
       "      <th>BLOCK_NUMBER</th>\n",
       "      <th>TX_HASH</th>\n",
       "      <th>EVENT_TYPE</th>\n",
       "      <th>NFT_ADDRESS</th>\n",
       "      <th>PROJECT_NAME</th>\n",
       "      <th>NFT_FROM_ADDRESS</th>\n",
       "      <th>NFT_TO_ADDRESS</th>\n",
       "      <th>TOKENID</th>\n",
       "      <th>MINT_PRICE_ETH</th>\n",
       "      <th>TX_FEE</th>\n",
       "      <th>DATE</th>\n",
       "      <th>TIME (in UTC)</th>\n",
       "    </tr>\n",
       "  </thead>\n",
       "  <tbody>\n",
       "    <tr>\n",
       "      <th>0</th>\n",
       "      <td>2022-06-29 12:36:20</td>\n",
       "      <td>15045048</td>\n",
       "      <td>0xfdf24801fbd990540f279e595e70ea1cf6d7adfe8bad...</td>\n",
       "      <td>nft_mint</td>\n",
       "      <td>0xdfb57b6e16ddb97aeb8847386989f4dca7202146</td>\n",
       "      <td>flipside</td>\n",
       "      <td>0x0000000000000000000000000000000000000000</td>\n",
       "      <td>0x4a9318f375937b56045e5a548e7e66aea61dd610</td>\n",
       "      <td>0</td>\n",
       "      <td>0</td>\n",
       "      <td>0.006121</td>\n",
       "      <td>2022-06-29</td>\n",
       "      <td>12</td>\n",
       "    </tr>\n",
       "    <tr>\n",
       "      <th>1</th>\n",
       "      <td>2022-06-29 12:53:31</td>\n",
       "      <td>15045107</td>\n",
       "      <td>0xd0b0f954915efe5c0960516b60d143d65c664b1dd5c2...</td>\n",
       "      <td>nft_mint</td>\n",
       "      <td>0xdfb57b6e16ddb97aeb8847386989f4dca7202146</td>\n",
       "      <td>flipside</td>\n",
       "      <td>0x0000000000000000000000000000000000000000</td>\n",
       "      <td>0x23253559632ed2c8dfb6b6e10e85d03c871c7d68</td>\n",
       "      <td>1</td>\n",
       "      <td>0</td>\n",
       "      <td>0.005764</td>\n",
       "      <td>2022-06-29</td>\n",
       "      <td>12</td>\n",
       "    </tr>\n",
       "    <tr>\n",
       "      <th>2</th>\n",
       "      <td>2022-06-29 12:54:19</td>\n",
       "      <td>15045108</td>\n",
       "      <td>0xd49545efa140e803e5ef4fda4fc07835fcb79a113ce9...</td>\n",
       "      <td>nft_mint</td>\n",
       "      <td>0xdfb57b6e16ddb97aeb8847386989f4dca7202146</td>\n",
       "      <td>flipside</td>\n",
       "      <td>0x0000000000000000000000000000000000000000</td>\n",
       "      <td>0x23253559632ed2c8dfb6b6e10e85d03c871c7d68</td>\n",
       "      <td>2</td>\n",
       "      <td>0</td>\n",
       "      <td>0.005980</td>\n",
       "      <td>2022-06-29</td>\n",
       "      <td>12</td>\n",
       "    </tr>\n",
       "    <tr>\n",
       "      <th>3</th>\n",
       "      <td>2022-06-29 12:59:09</td>\n",
       "      <td>15045125</td>\n",
       "      <td>0xe56628d21fd13daad61418d4c65d41140aa3406321a6...</td>\n",
       "      <td>nft_mint</td>\n",
       "      <td>0xdfb57b6e16ddb97aeb8847386989f4dca7202146</td>\n",
       "      <td>flipside</td>\n",
       "      <td>0x0000000000000000000000000000000000000000</td>\n",
       "      <td>0x4695a3ecde63ec9027733f3f63aa241b3d5f3095</td>\n",
       "      <td>3</td>\n",
       "      <td>0</td>\n",
       "      <td>0.007474</td>\n",
       "      <td>2022-06-29</td>\n",
       "      <td>12</td>\n",
       "    </tr>\n",
       "    <tr>\n",
       "      <th>4</th>\n",
       "      <td>2022-06-29 13:00:48</td>\n",
       "      <td>15045129</td>\n",
       "      <td>0xe5d02bf69df61092a61d4c19b783f7ebdfc31907f619...</td>\n",
       "      <td>nft_mint</td>\n",
       "      <td>0xdfb57b6e16ddb97aeb8847386989f4dca7202146</td>\n",
       "      <td>flipside</td>\n",
       "      <td>0x0000000000000000000000000000000000000000</td>\n",
       "      <td>0xd45536f11169d3e0f316cf1c2bd95424acfbacc5</td>\n",
       "      <td>4</td>\n",
       "      <td>0</td>\n",
       "      <td>0.009775</td>\n",
       "      <td>2022-06-29</td>\n",
       "      <td>13</td>\n",
       "    </tr>\n",
       "  </tbody>\n",
       "</table>\n",
       "</div>"
      ],
      "text/plain": [
       "      BLOCK_TIMESTAMP  BLOCK_NUMBER  \\\n",
       "0 2022-06-29 12:36:20      15045048   \n",
       "1 2022-06-29 12:53:31      15045107   \n",
       "2 2022-06-29 12:54:19      15045108   \n",
       "3 2022-06-29 12:59:09      15045125   \n",
       "4 2022-06-29 13:00:48      15045129   \n",
       "\n",
       "                                             TX_HASH EVENT_TYPE  \\\n",
       "0  0xfdf24801fbd990540f279e595e70ea1cf6d7adfe8bad...   nft_mint   \n",
       "1  0xd0b0f954915efe5c0960516b60d143d65c664b1dd5c2...   nft_mint   \n",
       "2  0xd49545efa140e803e5ef4fda4fc07835fcb79a113ce9...   nft_mint   \n",
       "3  0xe56628d21fd13daad61418d4c65d41140aa3406321a6...   nft_mint   \n",
       "4  0xe5d02bf69df61092a61d4c19b783f7ebdfc31907f619...   nft_mint   \n",
       "\n",
       "                                  NFT_ADDRESS PROJECT_NAME  \\\n",
       "0  0xdfb57b6e16ddb97aeb8847386989f4dca7202146     flipside   \n",
       "1  0xdfb57b6e16ddb97aeb8847386989f4dca7202146     flipside   \n",
       "2  0xdfb57b6e16ddb97aeb8847386989f4dca7202146     flipside   \n",
       "3  0xdfb57b6e16ddb97aeb8847386989f4dca7202146     flipside   \n",
       "4  0xdfb57b6e16ddb97aeb8847386989f4dca7202146     flipside   \n",
       "\n",
       "                             NFT_FROM_ADDRESS  \\\n",
       "0  0x0000000000000000000000000000000000000000   \n",
       "1  0x0000000000000000000000000000000000000000   \n",
       "2  0x0000000000000000000000000000000000000000   \n",
       "3  0x0000000000000000000000000000000000000000   \n",
       "4  0x0000000000000000000000000000000000000000   \n",
       "\n",
       "                               NFT_TO_ADDRESS  TOKENID  MINT_PRICE_ETH  \\\n",
       "0  0x4a9318f375937b56045e5a548e7e66aea61dd610        0               0   \n",
       "1  0x23253559632ed2c8dfb6b6e10e85d03c871c7d68        1               0   \n",
       "2  0x23253559632ed2c8dfb6b6e10e85d03c871c7d68        2               0   \n",
       "3  0x4695a3ecde63ec9027733f3f63aa241b3d5f3095        3               0   \n",
       "4  0xd45536f11169d3e0f316cf1c2bd95424acfbacc5        4               0   \n",
       "\n",
       "     TX_FEE        DATE TIME (in UTC)  \n",
       "0  0.006121  2022-06-29            12  \n",
       "1  0.005764  2022-06-29            12  \n",
       "2  0.005980  2022-06-29            12  \n",
       "3  0.007474  2022-06-29            12  \n",
       "4  0.009775  2022-06-29            13  "
      ]
     },
     "execution_count": 118,
     "metadata": {},
     "output_type": "execute_result"
    }
   ],
   "source": [
    "\"\"\"\n",
    "SELECT block_timestamp,\n",
    "  block_number,\n",
    "  tx_hash,\n",
    "  event_type,\n",
    "  nft_address,\n",
    "  project_name,\n",
    "  nft_from_address,\n",
    "  nft_to_address,\n",
    "  tokenid,\n",
    "  mint_price_eth,\n",
    "  tx_fee\n",
    "FROM ethereum.core.ez_nft_mints\n",
    "WHERE nft_address ILIKE '0xdfb57B6E16DDB97Aeb8847386989f4DCA7202146'\n",
    "ORDER BY block_timestamp;\n",
    "\"\"\"\n",
    "\n",
    "mint_df = pd.read_json(\n",
    "    \"https://node-api.flipsidecrypto.com/api/v2/queries/9e601858-6bc9-4ef4-a6c1-43452821f690/data/latest\"\n",
    ")\n",
    "\n",
    "# Extract date and time(hour) from timestamp.\n",
    "mint_df[\"BLOCK_TIMESTAMP\"] = pd.to_datetime(mint_df[\"BLOCK_TIMESTAMP\"])\n",
    "mint_df[\"DATE\"] = mint_df[\"BLOCK_TIMESTAMP\"].dt.date.astype(str)\n",
    "mint_df[\"TIME (in UTC)\"] = mint_df[\"BLOCK_TIMESTAMP\"].dt.hour.astype(str)\n",
    "\n",
    "mint_df.head()\n"
   ]
  },
  {
   "cell_type": "markdown",
   "metadata": {},
   "source": [
    "**NFT Sales Data Overview**"
   ]
  },
  {
   "cell_type": "markdown",
   "metadata": {},
   "source": [
    "This data shows how many ShroomDK NFTs are sold on OpenSea."
   ]
  },
  {
   "cell_type": "code",
   "execution_count": 6,
   "metadata": {},
   "outputs": [
    {
     "data": {
      "text/html": [
       "<div>\n",
       "<style scoped>\n",
       "    .dataframe tbody tr th:only-of-type {\n",
       "        vertical-align: middle;\n",
       "    }\n",
       "\n",
       "    .dataframe tbody tr th {\n",
       "        vertical-align: top;\n",
       "    }\n",
       "\n",
       "    .dataframe thead th {\n",
       "        text-align: right;\n",
       "    }\n",
       "</style>\n",
       "<table border=\"1\" class=\"dataframe\">\n",
       "  <thead>\n",
       "    <tr style=\"text-align: right;\">\n",
       "      <th></th>\n",
       "      <th>BLOCK_TIMESTAMP</th>\n",
       "      <th>ETH_PRICE</th>\n",
       "    </tr>\n",
       "  </thead>\n",
       "  <tbody>\n",
       "    <tr>\n",
       "      <th>0</th>\n",
       "      <td>2022-06-30 06:40:36.000</td>\n",
       "      <td>0.090</td>\n",
       "    </tr>\n",
       "    <tr>\n",
       "      <th>1</th>\n",
       "      <td>2022-06-30 18:14:07.000</td>\n",
       "      <td>0.090</td>\n",
       "    </tr>\n",
       "    <tr>\n",
       "      <th>2</th>\n",
       "      <td>2022-07-01 14:02:45.000</td>\n",
       "      <td>0.079</td>\n",
       "    </tr>\n",
       "    <tr>\n",
       "      <th>3</th>\n",
       "      <td>2022-07-01 16:00:59.000</td>\n",
       "      <td>0.079</td>\n",
       "    </tr>\n",
       "  </tbody>\n",
       "</table>\n",
       "</div>"
      ],
      "text/plain": [
       "           BLOCK_TIMESTAMP  ETH_PRICE\n",
       "0  2022-06-30 06:40:36.000      0.090\n",
       "1  2022-06-30 18:14:07.000      0.090\n",
       "2  2022-07-01 14:02:45.000      0.079\n",
       "3  2022-07-01 16:00:59.000      0.079"
      ]
     },
     "execution_count": 6,
     "metadata": {},
     "output_type": "execute_result"
    }
   ],
   "source": [
    "\"\"\"\n",
    "SELECT block_timestamp,\n",
    "  price AS eth_price\n",
    "FROM ethereum.core.ez_nft_sales\n",
    "WHERE nft_address ILIKE '0xdfb57B6E16DDB97Aeb8847386989f4DCA7202146'\n",
    "ORDER BY block_timestamp;\n",
    "\"\"\"\n",
    "\n",
    "nft_transfers_df = pd.read_json(\n",
    "    \"https://node-api.flipsidecrypto.com/api/v2/queries/8ceaed7e-899e-4fc3-b0c6-d601f0d8d6f4/data/latest\"\n",
    ")\n",
    "nft_transfers_df\n"
   ]
  },
  {
   "cell_type": "markdown",
   "metadata": {},
   "source": [
    "## Analysis"
   ]
  },
  {
   "cell_type": "markdown",
   "metadata": {},
   "source": [
    "### Number of mints up till 07-01-2022"
   ]
  },
  {
   "cell_type": "code",
   "execution_count": 157,
   "metadata": {},
   "outputs": [
    {
     "data": {
      "text/plain": [
       "'Total ShroomDK NFT minted so far: 290'"
      ]
     },
     "execution_count": 157,
     "metadata": {},
     "output_type": "execute_result"
    }
   ],
   "source": [
    "f\"\"\"Total ShroomDK NFT minted so far: {mint_df[\"TOKENID\"].nunique()}\"\"\""
   ]
  },
  {
   "cell_type": "markdown",
   "metadata": {},
   "source": [
    "### Number of unique owners"
   ]
  },
  {
   "cell_type": "code",
   "execution_count": 158,
   "metadata": {},
   "outputs": [
    {
     "data": {
      "text/plain": [
       "'Number of unique users who minted ShroomDK NFT: 194'"
      ]
     },
     "execution_count": 158,
     "metadata": {},
     "output_type": "execute_result"
    }
   ],
   "source": [
    "f\"\"\"Number of unique users who minted ShroomDK NFT: {mint_df[\"NFT_TO_ADDRESS\"].nunique()}\"\"\""
   ]
  },
  {
   "cell_type": "markdown",
   "metadata": {},
   "source": [
    "### Number of mints per user. How many minted all 2?"
   ]
  },
  {
   "cell_type": "markdown",
   "metadata": {},
   "source": [
    "The graph below shows how many people (out of 290) have minted all 2 NFTs."
   ]
  },
  {
   "cell_type": "code",
   "execution_count": 169,
   "metadata": {},
   "outputs": [
    {
     "data": {
      "text/plain": [
       "<matplotlib.axes._subplots.AxesSubplot at 0x7fbcd4d2e5d0>"
      ]
     },
     "execution_count": 169,
     "metadata": {},
     "output_type": "execute_result"
    },
    {
     "data": {
      "image/png": "[encoded data removed]",
      "text/plain": [
       "<Figure size 720x360 with 1 Axes>"
      ]
     },
     "metadata": {},
     "output_type": "display_data"
    }
   ],
   "source": [
    "fig, ax = plt.subplots(figsize=(10, 5))\n",
    "\n",
    "pd.DataFrame(mint_df.groupby(\"NFT_TO_ADDRESS\").agg(\"size\")).rename(\n",
    "    columns={0: \"minted\"}\n",
    ")[\"minted\"].value_counts().plot(kind='pie')\n"
   ]
  },
  {
   "cell_type": "code",
   "execution_count": 134,
   "metadata": {},
   "outputs": [
    {
     "data": {
      "text/plain": [
       "1    0.505155\n",
       "2    0.494845\n",
       "Name: minted, dtype: float64"
      ]
     },
     "execution_count": 134,
     "metadata": {},
     "output_type": "execute_result"
    }
   ],
   "source": [
    "# Percentage Breakdown\n",
    "mint_df.groupby(\"NFT_TO_ADDRESS\").agg({\"NFT_TO_ADDRESS\": \"size\"}).rename(\n",
    "    columns={\"NFT_TO_ADDRESS\": \"minted\"}\n",
    ")[\"minted\"].value_counts(2)"
   ]
  },
  {
   "cell_type": "markdown",
   "metadata": {},
   "source": [
    "Each user is allowed to mint 2 ShroomDK NFTs. However, 50% of the 290 people have only minted 1. "
   ]
  },
  {
   "cell_type": "markdown",
   "metadata": {},
   "source": [
    "### Number of failed transactions"
   ]
  },
  {
   "cell_type": "markdown",
   "metadata": {},
   "source": [
    "The following query was used to get the failed transactions on Flipside."
   ]
  },
  {
   "cell_type": "code",
   "execution_count": 156,
   "metadata": {},
   "outputs": [
    {
     "data": {
      "text/html": [
       "<div>\n",
       "<style scoped>\n",
       "    .dataframe tbody tr th:only-of-type {\n",
       "        vertical-align: middle;\n",
       "    }\n",
       "\n",
       "    .dataframe tbody tr th {\n",
       "        vertical-align: top;\n",
       "    }\n",
       "\n",
       "    .dataframe thead th {\n",
       "        text-align: right;\n",
       "    }\n",
       "</style>\n",
       "<table border=\"1\" class=\"dataframe\">\n",
       "  <thead>\n",
       "    <tr style=\"text-align: right;\">\n",
       "      <th></th>\n",
       "      <th>BLOCK_NUMBER</th>\n",
       "      <th>BLOCK_HASH</th>\n",
       "      <th>TX_HASH</th>\n",
       "      <th>FROM_ADDRESS</th>\n",
       "      <th>TO_ADDRESS</th>\n",
       "      <th>TX_FEE</th>\n",
       "      <th>STATUS</th>\n",
       "    </tr>\n",
       "  </thead>\n",
       "  <tbody>\n",
       "    <tr>\n",
       "      <th>0</th>\n",
       "      <td>15056751</td>\n",
       "      <td>2022-07-01 13:02:26.000</td>\n",
       "      <td>0x04a7eed092de59d7adcb7902cf5d250bdcab01043461...</td>\n",
       "      <td>0x7abcd4133cdfef01d1fce4be7b7e1e81113a33d6</td>\n",
       "      <td>0xdfb57b6e16ddb97aeb8847386989f4dca7202146</td>\n",
       "      <td>0.000992</td>\n",
       "      <td>FAIL</td>\n",
       "    </tr>\n",
       "    <tr>\n",
       "      <th>1</th>\n",
       "      <td>15046014</td>\n",
       "      <td>2022-06-29 17:07:00.000</td>\n",
       "      <td>0xf637b1a13e44e89c77ebf3ddec9d92c7692bde0570ee...</td>\n",
       "      <td>0xb8c2d03cafffe98e35ceea1a399372dd8fafa91a</td>\n",
       "      <td>0xdfb57b6e16ddb97aeb8847386989f4dca7202146</td>\n",
       "      <td>0.002194</td>\n",
       "      <td>FAIL</td>\n",
       "    </tr>\n",
       "    <tr>\n",
       "      <th>2</th>\n",
       "      <td>15046006</td>\n",
       "      <td>2022-06-29 17:04:49.000</td>\n",
       "      <td>0x344161ebd378a3aa42b0afbc20f3cf1fa82bdcf375a1...</td>\n",
       "      <td>0xb8c2d03cafffe98e35ceea1a399372dd8fafa91a</td>\n",
       "      <td>0xdfb57b6e16ddb97aeb8847386989f4dca7202146</td>\n",
       "      <td>0.002205</td>\n",
       "      <td>FAIL</td>\n",
       "    </tr>\n",
       "    <tr>\n",
       "      <th>3</th>\n",
       "      <td>15045222</td>\n",
       "      <td>2022-06-29 13:26:23.000</td>\n",
       "      <td>0x93d20a45ffc2e6985bf5cab4201b0fa1f581f1dcb051...</td>\n",
       "      <td>0xd5ad08af3c21e666c58ce36ab4dfe9d433066466</td>\n",
       "      <td>0xdfb57b6e16ddb97aeb8847386989f4dca7202146</td>\n",
       "      <td>0.001332</td>\n",
       "      <td>FAIL</td>\n",
       "    </tr>\n",
       "  </tbody>\n",
       "</table>\n",
       "</div>"
      ],
      "text/plain": [
       "   BLOCK_NUMBER               BLOCK_HASH  \\\n",
       "0      15056751  2022-07-01 13:02:26.000   \n",
       "1      15046014  2022-06-29 17:07:00.000   \n",
       "2      15046006  2022-06-29 17:04:49.000   \n",
       "3      15045222  2022-06-29 13:26:23.000   \n",
       "\n",
       "                                             TX_HASH  \\\n",
       "0  0x04a7eed092de59d7adcb7902cf5d250bdcab01043461...   \n",
       "1  0xf637b1a13e44e89c77ebf3ddec9d92c7692bde0570ee...   \n",
       "2  0x344161ebd378a3aa42b0afbc20f3cf1fa82bdcf375a1...   \n",
       "3  0x93d20a45ffc2e6985bf5cab4201b0fa1f581f1dcb051...   \n",
       "\n",
       "                                 FROM_ADDRESS  \\\n",
       "0  0x7abcd4133cdfef01d1fce4be7b7e1e81113a33d6   \n",
       "1  0xb8c2d03cafffe98e35ceea1a399372dd8fafa91a   \n",
       "2  0xb8c2d03cafffe98e35ceea1a399372dd8fafa91a   \n",
       "3  0xd5ad08af3c21e666c58ce36ab4dfe9d433066466   \n",
       "\n",
       "                                   TO_ADDRESS    TX_FEE STATUS  \n",
       "0  0xdfb57b6e16ddb97aeb8847386989f4dca7202146  0.000992   FAIL  \n",
       "1  0xdfb57b6e16ddb97aeb8847386989f4dca7202146  0.002194   FAIL  \n",
       "2  0xdfb57b6e16ddb97aeb8847386989f4dca7202146  0.002205   FAIL  \n",
       "3  0xdfb57b6e16ddb97aeb8847386989f4dca7202146  0.001332   FAIL  "
      ]
     },
     "execution_count": 156,
     "metadata": {},
     "output_type": "execute_result"
    }
   ],
   "source": [
    "\"\"\"\n",
    "SELECT block_number,\n",
    "  block_timestamp\n",
    "  block_hash,\n",
    "  tx_hash,\n",
    "  from_address,\n",
    "  to_address,\n",
    "  tx_fee,\n",
    "  status\n",
    "FROM ethereum.core.fact_transactions\n",
    "WHERE to_address ILIKE '0xdfb57b6e16ddb97aeb8847386989f4dca7202146'\n",
    "  AND status = 'FAIL'\n",
    "ORDER BY block_timestamp DESC;\n",
    "\"\"\"\n",
    "\n",
    "pd.read_json(\n",
    "    \"https://node-api.flipsidecrypto.com/api/v2/queries/4ac71949-5508-4864-9467-6d7a8518996e/data/latest\"\n",
    ")"
   ]
  },
  {
   "cell_type": "markdown",
   "metadata": {},
   "source": [
    "There has been a total of 4 failed transactions, 2 of which were caused by a user trying to mint more than the limit of 2 NFT. Fortunately, the total gas fees paid for all failed transaction is around $7 (0.0067 ETH). "
   ]
  },
  {
   "cell_type": "markdown",
   "metadata": {},
   "source": [
    "### Number of mints per day"
   ]
  },
  {
   "cell_type": "markdown",
   "metadata": {},
   "source": [
    "Let's see how any ShroomDK NFTs are minted each day."
   ]
  },
  {
   "cell_type": "code",
   "execution_count": 37,
   "metadata": {},
   "outputs": [
    {
     "data": {
      "text/html": [
       "<div>\n",
       "<style scoped>\n",
       "    .dataframe tbody tr th:only-of-type {\n",
       "        vertical-align: middle;\n",
       "    }\n",
       "\n",
       "    .dataframe tbody tr th {\n",
       "        vertical-align: top;\n",
       "    }\n",
       "\n",
       "    .dataframe thead th {\n",
       "        text-align: right;\n",
       "    }\n",
       "</style>\n",
       "<table border=\"1\" class=\"dataframe\">\n",
       "  <thead>\n",
       "    <tr style=\"text-align: right;\">\n",
       "      <th></th>\n",
       "      <th>shroomDK_minted</th>\n",
       "    </tr>\n",
       "    <tr>\n",
       "      <th>DATE</th>\n",
       "      <th></th>\n",
       "    </tr>\n",
       "  </thead>\n",
       "  <tbody>\n",
       "    <tr>\n",
       "      <th>2022-06-29</th>\n",
       "      <td>144</td>\n",
       "    </tr>\n",
       "    <tr>\n",
       "      <th>2022-06-30</th>\n",
       "      <td>50</td>\n",
       "    </tr>\n",
       "    <tr>\n",
       "      <th>2022-07-01</th>\n",
       "      <td>96</td>\n",
       "    </tr>\n",
       "  </tbody>\n",
       "</table>\n",
       "</div>"
      ],
      "text/plain": [
       "            shroomDK_minted\n",
       "DATE                       \n",
       "2022-06-29              144\n",
       "2022-06-30               50\n",
       "2022-07-01               96"
      ]
     },
     "execution_count": 37,
     "metadata": {},
     "output_type": "execute_result"
    }
   ],
   "source": [
    "mints_per_day_df = mint_df.groupby(\"DATE\").agg({\"TX_HASH\": \"size\"}).rename(\n",
    "    columns={\"TX_HASH\": \"shroomDK_minted\"}\n",
    ")\n",
    "mints_per_day_df"
   ]
  },
  {
   "cell_type": "code",
   "execution_count": 38,
   "metadata": {},
   "outputs": [
    {
     "data": {
      "text/plain": [
       "Text(0.5, 1.0, 'Number of ShroomDK NFT minted')"
      ]
     },
     "execution_count": 38,
     "metadata": {},
     "output_type": "execute_result"
    },
    {
     "data": {
      "image/png": "[encoded data removed]",
      "text/plain": [
       "<Figure size 720x360 with 1 Axes>"
      ]
     },
     "metadata": {
      "needs_background": "light"
     },
     "output_type": "display_data"
    }
   ],
   "source": [
    "fig, ax = plt.subplots(figsize=(10, 5))\n",
    "sns.barplot(x = mints_per_day_df.index, y = \"shroomDK_minted\", data = mints_per_day_df)\n",
    "plt.title(\"Number of ShroomDK NFT minted\")"
   ]
  },
  {
   "cell_type": "markdown",
   "metadata": {},
   "source": [
    "As can be seen from the graph, Flipside released a lot of ShroomDK NFT on the first day of its release. After that, they have randomly released a smaller supply in the next 2 days. (Note that this daily count also contains the NFT minted through a referral code)"
   ]
  },
  {
   "cell_type": "markdown",
   "metadata": {},
   "source": [
    "### How fast does it mint out?"
   ]
  },
  {
   "cell_type": "markdown",
   "metadata": {},
   "source": [
    "Let's see how fast are ShroomDK NFTs sold out after their release each day."
   ]
  },
  {
   "cell_type": "code",
   "execution_count": 117,
   "metadata": {
    "scrolled": false
   },
   "outputs": [
    {
     "data": {
      "image/png": "[encoded data removed]",
      "text/plain": [
       "<Figure size 432x288 with 1 Axes>"
      ]
     },
     "metadata": {
      "needs_background": "light"
     },
     "output_type": "display_data"
    },
    {
     "data": {
      "image/png": "[encoded data removed]",
      "text/plain": [
       "<Figure size 432x288 with 1 Axes>"
      ]
     },
     "metadata": {
      "needs_background": "light"
     },
     "output_type": "display_data"
    },
    {
     "data": {
      "image/png": "[encoded data removed]",
      "text/plain": [
       "<Figure size 432x288 with 1 Axes>"
      ]
     },
     "metadata": {
      "needs_background": "light"
     },
     "output_type": "display_data"
    }
   ],
   "source": [
    "for d in [\"2022-06-29\", \"2022-06-30\", \"2022-07-01\"]:\n",
    "    plt.figure()\n",
    "    plt.title(f\"Mint Progess on {d}\")\n",
    "    sns.histplot(x = \"TIME (in UTC)\", data = mint_df[mint_df[\"DATE\"]==d], kde=True)\n",
    "    "
   ]
  },
  {
   "cell_type": "markdown",
   "metadata": {},
   "source": [
    "As evident from the above graphs, the NFT experiences a greater volume in the first couple hour of its release, with others minting throughout the day using the referral code. (The ShroomDK NFT holders can give a referral code to anyone who can then mint an NFT whenever they like.) High volume at 13UTC (9AM Eastern) potentially indicates that people are excited to try Flipside's API. "
   ]
  },
  {
   "cell_type": "markdown",
   "metadata": {},
   "source": [
    "### Gas Fees Paid"
   ]
  },
  {
   "cell_type": "markdown",
   "metadata": {},
   "source": [
    "Let's see how much are people paying for gas in the mornings minting ShroomDK."
   ]
  },
  {
   "cell_type": "code",
   "execution_count": 164,
   "metadata": {},
   "outputs": [
    {
     "data": {
      "text/html": [
       "<div>\n",
       "<style scoped>\n",
       "    .dataframe tbody tr th:only-of-type {\n",
       "        vertical-align: middle;\n",
       "    }\n",
       "\n",
       "    .dataframe tbody tr th {\n",
       "        vertical-align: top;\n",
       "    }\n",
       "\n",
       "    .dataframe thead th {\n",
       "        text-align: right;\n",
       "    }\n",
       "</style>\n",
       "<table border=\"1\" class=\"dataframe\">\n",
       "  <thead>\n",
       "    <tr style=\"text-align: right;\">\n",
       "      <th></th>\n",
       "      <th>average_gas_fee</th>\n",
       "      <th>avg_gas_fee_in_USD</th>\n",
       "    </tr>\n",
       "    <tr>\n",
       "      <th>DATE</th>\n",
       "      <th></th>\n",
       "      <th></th>\n",
       "    </tr>\n",
       "  </thead>\n",
       "  <tbody>\n",
       "    <tr>\n",
       "      <th>2022-06-29</th>\n",
       "      <td>0.010536</td>\n",
       "      <td>11.589785</td>\n",
       "    </tr>\n",
       "    <tr>\n",
       "      <th>2022-06-30</th>\n",
       "      <td>0.009272</td>\n",
       "      <td>10.199328</td>\n",
       "    </tr>\n",
       "    <tr>\n",
       "      <th>2022-07-01</th>\n",
       "      <td>0.004625</td>\n",
       "      <td>5.087403</td>\n",
       "    </tr>\n",
       "  </tbody>\n",
       "</table>\n",
       "</div>"
      ],
      "text/plain": [
       "            average_gas_fee  avg_gas_fee_in_USD\n",
       "DATE                                           \n",
       "2022-06-29         0.010536           11.589785\n",
       "2022-06-30         0.009272           10.199328\n",
       "2022-07-01         0.004625            5.087403"
      ]
     },
     "execution_count": 164,
     "metadata": {},
     "output_type": "execute_result"
    }
   ],
   "source": [
    "gas_per_day_df = mint_df.groupby(\"DATE\").agg({\"TX_FEE\": \"mean\"}).rename(\n",
    "    columns={\"TX_FEE\": \"average_gas_fee\"}\n",
    ")\n",
    "gas_per_day_df[\"avg_gas_fee_in_USD\"] = gas_per_day_df[\"average_gas_fee\"] * 1100  # Assuming 1 ETH = $1100\n",
    "gas_per_day_df"
   ]
  },
  {
   "cell_type": "code",
   "execution_count": 166,
   "metadata": {},
   "outputs": [
    {
     "data": {
      "text/plain": [
       "Text(0.5, 1.0, 'Gas Fee Paid (in USD)')"
      ]
     },
     "execution_count": 166,
     "metadata": {},
     "output_type": "execute_result"
    },
    {
     "data": {
      "image/png": "[encoded data removed]",
      "text/plain": [
       "<Figure size 720x360 with 1 Axes>"
      ]
     },
     "metadata": {
      "needs_background": "light"
     },
     "output_type": "display_data"
    }
   ],
   "source": [
    "fig, ax = plt.subplots(figsize=(10, 5))\n",
    "sns.barplot(x = gas_per_day_df.index, y = \"avg_gas_fee_in_USD\", data = gas_per_day_df)\n",
    "plt.title(\"Gas Fee Paid (in USD)\")"
   ]
  },
  {
   "cell_type": "markdown",
   "metadata": {},
   "source": [
    "The average gas fees paid by a user is \\\\$9.2. The highest gas paid by a user is \\\\$30.81. The lowest gas paid by a user is \\\\$1.84. Overall, low gas fees!!"
   ]
  },
  {
   "cell_type": "markdown",
   "metadata": {},
   "source": [
    "### Number of Transfers "
   ]
  },
  {
   "cell_type": "markdown",
   "metadata": {},
   "source": [
    "Let's see how many NFTs have been sold."
   ]
  },
  {
   "cell_type": "code",
   "execution_count": 45,
   "metadata": {},
   "outputs": [
    {
     "data": {
      "text/html": [
       "<div>\n",
       "<style scoped>\n",
       "    .dataframe tbody tr th:only-of-type {\n",
       "        vertical-align: middle;\n",
       "    }\n",
       "\n",
       "    .dataframe tbody tr th {\n",
       "        vertical-align: top;\n",
       "    }\n",
       "\n",
       "    .dataframe thead th {\n",
       "        text-align: right;\n",
       "    }\n",
       "</style>\n",
       "<table border=\"1\" class=\"dataframe\">\n",
       "  <thead>\n",
       "    <tr style=\"text-align: right;\">\n",
       "      <th></th>\n",
       "      <th>BLOCK_TIMESTAMP</th>\n",
       "      <th>ETH_PRICE</th>\n",
       "    </tr>\n",
       "  </thead>\n",
       "  <tbody>\n",
       "    <tr>\n",
       "      <th>0</th>\n",
       "      <td>2022-06-30 06:40:36.000</td>\n",
       "      <td>0.090</td>\n",
       "    </tr>\n",
       "    <tr>\n",
       "      <th>1</th>\n",
       "      <td>2022-06-30 18:14:07.000</td>\n",
       "      <td>0.090</td>\n",
       "    </tr>\n",
       "    <tr>\n",
       "      <th>2</th>\n",
       "      <td>2022-07-01 14:02:45.000</td>\n",
       "      <td>0.079</td>\n",
       "    </tr>\n",
       "    <tr>\n",
       "      <th>3</th>\n",
       "      <td>2022-07-01 16:00:59.000</td>\n",
       "      <td>0.079</td>\n",
       "    </tr>\n",
       "  </tbody>\n",
       "</table>\n",
       "</div>"
      ],
      "text/plain": [
       "           BLOCK_TIMESTAMP  ETH_PRICE\n",
       "0  2022-06-30 06:40:36.000      0.090\n",
       "1  2022-06-30 18:14:07.000      0.090\n",
       "2  2022-07-01 14:02:45.000      0.079\n",
       "3  2022-07-01 16:00:59.000      0.079"
      ]
     },
     "execution_count": 45,
     "metadata": {},
     "output_type": "execute_result"
    }
   ],
   "source": [
    "nft_transfers_df  # A total of 4 transfers"
   ]
  },
  {
   "cell_type": "code",
   "execution_count": 111,
   "metadata": {},
   "outputs": [
    {
     "data": {
      "text/plain": [
       "'Total Volume in secondary market is 0.34 ETH'"
      ]
     },
     "execution_count": 111,
     "metadata": {},
     "output_type": "execute_result"
    }
   ],
   "source": [
    "f\"\"\"Total Volume in secondary market is {nft_transfers_df[\"ETH_PRICE\"].sum().round(2)} ETH\"\"\""
   ]
  },
  {
   "cell_type": "markdown",
   "metadata": {},
   "source": [
    "## Conclusion"
   ]
  },
  {
   "cell_type": "markdown",
   "metadata": {},
   "source": [
    "1. A total of 290 shroomDK NFT has been minted in 3 days (06/29-07/01) by 194 people. The minting experience seems smooth, since there have been only 4 failed transactions.\n",
    "2. 98 out of 194 people minted 1 ShroomDK, while the other 96 people minted all 2.\n",
    "3. The gas fees has been low compared to other mints. The average gas fees paid by a user to mint ShroomDK is \\\\$9.2. The highest gas paid by a user is \\\\$30.81. The lowest gas paid by a user is \\\\$1.84.\n",
    "4. People seem to be hodling their ShroomDK NFT -- there has been only 4 sales so far on Opensea, and only 9 are listed for sale (as of 7/1/22, 8PM CST).\n",
    "5. In the 3 days the NFT has been released, most ShroomDK NFTs sell out within 2 hours, with others minting throughout the day via the referral code that the minters give them."
   ]
  }
 ],
 "metadata": {
  "kernelspec": {
   "display_name": "Python 3",
   "language": "python",
   "name": "python3"
  },
  "language_info": {
   "codemirror_mode": {
    "name": "ipython",
    "version": 3
   },
   "file_extension": ".py",
   "mimetype": "text/x-python",
   "name": "python",
   "nbconvert_exporter": "python",
   "pygments_lexer": "ipython3",
   "version": "3.7.6"
  }
 },
 "nbformat": 4,
 "nbformat_minor": 4
}
